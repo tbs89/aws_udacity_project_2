{
 "cells": [
  {
   "cell_type": "code",
   "execution_count": 1,
   "id": "0745b20b",
   "metadata": {},
   "outputs": [
    {
     "name": "stdout",
     "output_type": "stream",
     "text": [
      "Connecting with: host=project-2-sparkify-tbs89.csp3zsirf3cp.us-west-2.redshift.amazonaws.com dbname=db_redshift user=user_db_redshift password=ThisIsAPassword2024 port=5439\n",
      "Tables dropped and created successfully\n"
     ]
    }
   ],
   "source": [
    "import configparser\n",
    "import psycopg2\n",
    "from sql_queries import create_table_queries, drop_table_queries\n",
    "\n",
    "def drop_tables(cur, conn):\n",
    "    for query in drop_table_queries:\n",
    "        cur.execute(query)\n",
    "        conn.commit()\n",
    "\n",
    "def create_tables(cur, conn):\n",
    "    for query in create_table_queries:\n",
    "        cur.execute(query)\n",
    "        conn.commit()\n",
    "\n",
    "def main():\n",
    "    config = configparser.ConfigParser()\n",
    "    config.read('dwh.cfg')\n",
    "    \n",
    "    connection_string = \"host={} dbname={} user={} password={} port={}\".format(\n",
    "        config.get(\"CLUSTER\", \"HOST\"), \n",
    "        config.get(\"CLUSTER\", \"DB_NAME\"), \n",
    "        config.get(\"CLUSTER\", \"DB_USER\"), \n",
    "        config.get(\"CLUSTER\", \"DB_PASSWORD\"), \n",
    "        config.get(\"CLUSTER\", \"DB_PORT\")\n",
    "    )\n",
    "    print(\"Connecting with:\", connection_string) \n",
    "    \n",
    "    conn = psycopg2.connect(connection_string)\n",
    "    cur = conn.cursor()\n",
    "\n",
    "    drop_tables(cur, conn)\n",
    "    create_tables(cur, conn)\n",
    "\n",
    "    conn.close()\n",
    "    print('Tables dropped and created successfully')\n",
    "\n",
    "if __name__ == \"__main__\":\n",
    "    main()"
   ]
  }
 ],
 "metadata": {
  "kernelspec": {
   "display_name": "Python 3 (ipykernel)",
   "language": "python",
   "name": "python3"
  },
  "language_info": {
   "codemirror_mode": {
    "name": "ipython",
    "version": 3
   },
   "file_extension": ".py",
   "mimetype": "text/x-python",
   "name": "python",
   "nbconvert_exporter": "python",
   "pygments_lexer": "ipython3",
   "version": "3.11.4"
  }
 },
 "nbformat": 4,
 "nbformat_minor": 5
}
