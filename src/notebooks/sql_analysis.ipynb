{
 "cells": [
  {
   "cell_type": "code",
   "execution_count": 9,
   "id": "45fb1e2f",
   "metadata": {},
   "outputs": [],
   "source": [
    "import configparser\n",
    "import psycopg2\n",
    "\n",
    "# Load configuration\n",
    "config = configparser.ConfigParser()\n",
    "config.read('dwh.cfg')\n",
    "\n",
    "# Database connection details\n",
    "HOST = config.get(\"CLUSTER\", \"HOST\")\n",
    "DB_NAME = config.get(\"CLUSTER\", \"DB_NAME\")\n",
    "DB_USER = config.get(\"CLUSTER\", \"DB_USER\")\n",
    "DB_PASSWORD = config.get(\"CLUSTER\", \"DB_PASSWORD\")\n",
    "DB_PORT = config.get(\"CLUSTER\", \"DB_PORT\")\n",
    "DB_CONNECTION = f\"host={HOST} dbname={DB_NAME} user={DB_USER} password={DB_PASSWORD} port={DB_PORT}\"\n",
    "\n",
    "# Establish a connection\n",
    "conn = psycopg2.connect(DB_CONNECTION)\n",
    "cur = conn.cursor()\n"
   ]
  },
  {
   "cell_type": "code",
   "execution_count": 10,
   "id": "78231ef6",
   "metadata": {},
   "outputs": [
    {
     "name": "stdout",
     "output_type": "stream",
     "text": [
      "Total number of events in staging: 8056\n",
      "Total number of songs in staging: 385252\n"
     ]
    }
   ],
   "source": [
    "# Print the total number of events and songs in staging\n",
    "cur.execute(\"SELECT COUNT(*) FROM staging_events;\")\n",
    "results = cur.fetchone()\n",
    "print(f\"Total number of events in staging: {results[0]}\")\n",
    "\n",
    "cur.execute(\"SELECT COUNT(*) FROM staging_songs;\")\n",
    "results = cur.fetchone()\n",
    "print(f\"Total number of songs in staging: {results[0]}\")\n"
   ]
  },
  {
   "cell_type": "code",
   "execution_count": 11,
   "id": "f56ad32c",
   "metadata": {},
   "outputs": [
    {
     "name": "stdout",
     "output_type": "stream",
     "text": [
      "Most played song with 110 plays is 'Greece 2000' by Three Drives\n"
     ]
    }
   ],
   "source": [
    "# Print the most played song\n",
    "cur.execute(\"\"\"\n",
    "    SELECT a.name, s.title, COUNT(*) as plays\n",
    "    FROM songplays p\n",
    "    JOIN artists a ON p.artist_id = a.artist_id\n",
    "    JOIN songs s ON s.song_id = p.song_id\n",
    "    GROUP BY a.name, s.title\n",
    "    ORDER BY plays DESC LIMIT 1;\n",
    "\"\"\")\n",
    "results = cur.fetchone()\n",
    "print(f\"Most played song with {results[2]} plays is '{results[1]}' by {results[0]}\")"
   ]
  },
  {
   "cell_type": "code",
   "execution_count": 12,
   "id": "daf53619",
   "metadata": {},
   "outputs": [
    {
     "name": "stdout",
     "output_type": "stream",
     "text": [
      "Most active location with 722 plays is San Francisco-Oakland-Hayward, CA\n"
     ]
    }
   ],
   "source": [
    "# Print the most active location\n",
    "cur.execute(\"\"\"\n",
    "    SELECT location, COUNT(*) as plays\n",
    "    FROM songplays\n",
    "    GROUP BY location\n",
    "    ORDER BY plays DESC LIMIT 1;\n",
    "\"\"\")\n",
    "results = cur.fetchone()\n",
    "print(f\"Most active location with {results[1]} plays is {results[0]}\")"
   ]
  },
  {
   "cell_type": "code",
   "execution_count": 13,
   "id": "032cc50d",
   "metadata": {},
   "outputs": [
    {
     "name": "stdout",
     "output_type": "stream",
     "text": [
      "Top 20 listeners and their locations:\n",
      "(49, 'San Francisco-Oakland-Hayward, CA', 720)\n",
      "(80, 'Portland-South Portland, ME', 710)\n",
      "(97, 'Lansing-East Lansing, MI', 581)\n",
      "(15, 'Chicago-Naperville-Elgin, IL-IN-WI', 508)\n",
      "(44, 'Waterloo-Cedar Falls, IA', 438)\n",
      "(29, 'Atlanta-Sandy Springs-Roswell, GA', 368)\n",
      "(24, 'Lake Havasu City-Kingman, AZ', 339)\n",
      "(73, 'Tampa-St. Petersburg-Clearwater, FL', 312)\n",
      "(36, 'Janesville-Beloit, WI', 275)\n",
      "(88, 'Sacramento--Roseville--Arden-Arcade, CA', 275)\n",
      "(16, 'Birmingham-Hoover, AL', 248)\n",
      "(95, 'Winston-Salem, NC', 225)\n",
      "(85, 'Red Bluff, CA', 191)\n",
      "(30, 'San Jose-Sunnyvale-Santa Clara, CA', 190)\n",
      "(25, 'Marinette, WI-MI', 183)\n",
      "(58, 'Augusta-Richmond County, GA-SC', 146)\n",
      "(42, 'New York-Newark-Jersey City, NY-NJ-PA', 144)\n",
      "(26, 'San Jose-Sunnyvale-Santa Clara, CA', 124)\n",
      "(82, 'Atlanta-Sandy Springs-Roswell, GA', 81)\n",
      "(72, 'Detroit-Warren-Dearborn, MI', 77)\n"
     ]
    }
   ],
   "source": [
    "# 20 top listeners and their locations\n",
    "cur.execute(\"\"\"\n",
    "    SELECT user_id, location, COUNT(songplay_id) AS number_of_plays\n",
    "    FROM songplays\n",
    "    GROUP BY user_id, location\n",
    "    ORDER BY number_of_plays DESC, location, user_id\n",
    "    LIMIT 20;\n",
    "\"\"\")\n",
    "print(\"Top 20 listeners and their locations:\")\n",
    "for row in cur.fetchall():\n",
    "    print(row)"
   ]
  },
  {
   "cell_type": "code",
   "execution_count": 14,
   "id": "cc0da5c0",
   "metadata": {},
   "outputs": [
    {
     "name": "stdout",
     "output_type": "stream",
     "text": [
      "Top 50 songs:\n",
      "('Greece 2000', 'Three Drives', 110)\n",
      "('Stronger', 'Kanye West', 84)\n",
      "('Greece 2000', '3 Drives On A Vinyl', 55)\n",
      "('This Fire', 'Franz Ferdinand', 54)\n",
      "('Yellow', 'Coldplay', 48)\n",
      "('Stronger', \"Kanye West / Consequence / Cam'Ron\", 42)\n",
      "('Stronger', 'Kanye West / GLC / Consequence', 42)\n",
      "('Stronger', 'Kanye West / Jay-Z', 42)\n",
      "('Stronger', 'Kanye West / Jay-Z / J. Ivy', 42)\n",
      "('Stronger', 'Kanye West / John Legend / Consequence', 42)\n",
      "('Stronger', 'Kanye West / Kid Cudi', 42)\n",
      "('Stronger', 'Kanye West / Lil Wayne', 42)\n",
      "('Stronger', 'Kanye West / Mos Def', 42)\n",
      "('Stronger', 'Kanye West / Mos Def / Al Be Back', 42)\n",
      "('Stronger', 'Kanye West / Mos Def / Freeway / The Boys Choir Of Harlem', 42)\n",
      "('Stronger', 'Kanye West / Nas / Really Doe', 42)\n",
      "('Stronger', 'Kanye West / Paul Wall / GLC', 42)\n",
      "('Stronger', 'Kanye West / Syleena Johnson', 42)\n",
      "('Stronger', 'Kanye West / T-Pain', 42)\n",
      "('Stronger', 'Kanye West / Talib Kweli / Q-Tip / Common / Rhymefest', 42)\n",
      "('Stronger', 'Kanye West / Twista / Keyshia Cole / BJ', 42)\n",
      "('Stronger', 'Mary', 42)\n",
      "('Flashing Lights', 'Kanye West', 40)\n",
      "(\"Don't Stop The Music\", 'Rihanna', 40)\n",
      "(\"You're The One\", 'Dwight Yoakam', 37)\n",
      "(\"You're The One\", 'Dwight Yoakam Duet with Maria McKee', 37)\n",
      "(\"You're The One\", 'Dwight Yoakam with Kelly Willis', 37)\n",
      "('Bring Me To Life', 'Evanescence', 35)\n",
      "(\"Nothin' On You [feat. Bruno Mars] (Album Version)\", 'B.O.B.', 32)\n",
      "(\"Nothin' On You [feat. Bruno Mars] (Album Version)\", 'B.o.B', 32)\n",
      "('Bubble Toes', 'Jack Johnson', 32)\n",
      "('Bubble Toes', 'Jack Johnson / Ben Harper', 32)\n",
      "('Bubble Toes', 'Jack Johnson / G. Love', 32)\n",
      "('Bubble Toes', 'Jack Johnson / Kawika Kahiapo', 32)\n",
      "('Bubble Toes', 'Jack Johnson / Matt Costa', 32)\n",
      "('Bubble Toes', 'Jack Johnson / Matt Costa / Zach Gill / Dan Lebowitz / Steve Adams', 32)\n",
      "('Bubble Toes', 'Jack Johnson / Paula Fuga', 32)\n",
      "('Bubble Toes', 'Jack Johnson and Friends / Matt Costa', 32)\n",
      "('Bubble Toes', 'Waylon Jennings', 32)\n",
      "('Dance_ Dance', 'Fall Out Boy', 30)\n",
      "('Dance_ Dance', 'Fall Out Boy / John Mayer', 30)\n",
      "('My Moon My Man', 'Feist', 30)\n",
      "('Just Dance', 'Lady GaGa', 30)\n",
      "('Use Somebody', 'Kings Of Leon', 28)\n",
      "('This Fire', 'Franz Ferdinand / Jane Birkin', 27)\n",
      "('This Fire', 'Franz Ferdinand Feat. The Grizzl', 27)\n",
      "('Revelry', 'Kings Of Leon', 27)\n",
      "('Somebody To Love', 'Justin Bieber', 26)\n",
      "('Somebody To Love', 'Justin Bieber / Jessica Jarrell', 26)\n",
      "('Somebody To Love', 'Justin Bieber / Usher', 26)\n"
     ]
    }
   ],
   "source": [
    "# 50 top songs\n",
    "cur.execute(\"\"\"\n",
    "    SELECT s.title, a.name AS artist, COUNT(sp.songplay_id) AS number_of_plays\n",
    "    FROM songplays sp\n",
    "    JOIN songs s ON sp.song_id = s.song_id\n",
    "    JOIN artists a ON sp.artist_id = a.artist_id\n",
    "    GROUP BY s.title, a.name\n",
    "    ORDER BY number_of_plays DESC, a.name, s.title\n",
    "    LIMIT 50;\n",
    "\"\"\")\n",
    "print(\"Top 50 songs:\")\n",
    "for row in cur.fetchall():\n",
    "    print(row)"
   ]
  },
  {
   "cell_type": "code",
   "execution_count": 15,
   "id": "a77e2a4e",
   "metadata": {},
   "outputs": [
    {
     "name": "stdout",
     "output_type": "stream",
     "text": [
      "Songs per duration range:\n",
      "('0-59 Seconds', 5408)\n",
      "('120-179 Seconds', 62094)\n",
      "('180-239 Seconds', 126835)\n",
      "('240-299 Seconds', 92783)\n",
      "('300+ Seconds', 80567)\n",
      "('60-119 Seconds', 17308)\n"
     ]
    }
   ],
   "source": [
    "# Songs per duration\n",
    "cur.execute(\"\"\"\n",
    "    SELECT \n",
    "        CASE\n",
    "            WHEN duration < 60 THEN '0-59 Seconds'\n",
    "            WHEN duration < 120 THEN '60-119 Seconds'\n",
    "            WHEN duration < 180 THEN '120-179 Seconds'\n",
    "            WHEN duration < 240 THEN '180-239 Seconds'\n",
    "            WHEN duration < 300 THEN '240-299 Seconds'\n",
    "            ELSE '300+ Seconds'\n",
    "        END AS duration_range,\n",
    "        COUNT(*) AS songs\n",
    "    FROM songs\n",
    "    GROUP BY 1\n",
    "    ORDER BY 1;\n",
    "\"\"\")\n",
    "print(\"Songs per duration range:\")\n",
    "for row in cur.fetchall():\n",
    "    print(row)"
   ]
  },
  {
   "cell_type": "code",
   "execution_count": 16,
   "id": "3fd6b116",
   "metadata": {},
   "outputs": [],
   "source": [
    "# Close connection\n",
    "cur.close()\n",
    "conn.close()"
   ]
  }
 ],
 "metadata": {
  "kernelspec": {
   "display_name": "Python 3 (ipykernel)",
   "language": "python",
   "name": "python3"
  },
  "language_info": {
   "codemirror_mode": {
    "name": "ipython",
    "version": 3
   },
   "file_extension": ".py",
   "mimetype": "text/x-python",
   "name": "python",
   "nbconvert_exporter": "python",
   "pygments_lexer": "ipython3",
   "version": "3.11.4"
  }
 },
 "nbformat": 4,
 "nbformat_minor": 5
}
